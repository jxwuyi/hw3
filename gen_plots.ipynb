{
 "cells": [
  {
   "cell_type": "code",
   "execution_count": 1,
   "metadata": {
    "collapsed": false
   },
   "outputs": [],
   "source": [
    "import seaborn as sns\n",
    "import pickle\n",
    "import numpy as np"
   ]
  },
  {
   "cell_type": "code",
   "execution_count": 4,
   "metadata": {
    "collapsed": true
   },
   "outputs": [],
   "source": [
    "def load_data(file):\n",
    "    with open(file,'rb') as f:\n",
    "        data = pickle.load(f)\n",
    "    times = []\n",
    "    mean = []\n",
    "    best = []\n",
    "    for t,x,y in data:\n",
    "        times.append(t)\n",
    "        mean.append(x)\n",
    "        best.append(y)\n",
    "    return times, mean, best"
   ]
  },
  {
   "cell_type": "code",
   "execution_count": 9,
   "metadata": {
    "collapsed": false
   },
   "outputs": [],
   "source": [
    "t1,m1,b1 = load_data('./log/progress-f1.pkl')\n",
    "t2,m2,b2 = load_data('./log/progress-f2.pkl')\n",
    "t4,m4,b4 = load_data('./log/progress.pkl')\n",
    "t8,m8,b8 = load_data('./log/progress-f8.pkl')"
   ]
  },
  {
   "cell_type": "code",
   "execution_count": 23,
   "metadata": {
    "collapsed": false
   },
   "outputs": [],
   "source": [
    "all_t = [t1,t2,t4,t8]\n",
    "all_m = [m1,m2,m4,m8]\n",
    "all_b = [b1,b2,b4,b8]\n",
    "n = min([len(t) for t in all_t])"
   ]
  },
  {
   "cell_type": "code",
   "execution_count": 28,
   "metadata": {
    "collapsed": false
   },
   "outputs": [],
   "source": [
    "# plot single curve\n",
    "import matplotlib.pyplot as plt\n",
    "plt.clf()\n",
    "raw_data = np.array([[m4,b4]],dtype=np.float32)\n",
    "data = np.transpose(raw_data,(0,2,1))\n",
    "ax = sns.tsplot(data,time=t4,value='reward',condition=['mean reward', 'best reward'],legend=True)\n",
    "#plt.show()\n",
    "plt.savefig('fig/q1.png')"
   ]
  },
  {
   "cell_type": "code",
   "execution_count": 27,
   "metadata": {
    "collapsed": false
   },
   "outputs": [],
   "source": [
    "plt.clf()\n",
    "f_size = [1,2,4,8]\n",
    "t = t1[:n]\n",
    "all_data = []\n",
    "all_cond = []\n",
    "for _m,_b,_i in zip(all_m,all_b,list(range(4))):\n",
    "    m = _m[:n]\n",
    "    b = _b[:n]\n",
    "    k = f_size[_i]\n",
    "    all_cond += ['mean reward (frame history = %d)' % k, 'best reward (frame history = %d)' % k]\n",
    "    all_data += [m, b]\n",
    "\n",
    "raw_data = np.array([all_data],dtype=np.float32)\n",
    "data = np.transpose(raw_data,(0,2,1))\n",
    "ax = sns.tsplot(data,time=t,value='reward',condition=all_cond,legend=True)\n",
    "#plt.show()\n",
    "plt.savefig('fig/q2.png')"
   ]
  }
 ],
 "metadata": {
  "kernelspec": {
   "display_name": "Python 3",
   "language": "python",
   "name": "python3"
  },
  "language_info": {
   "codemirror_mode": {
    "name": "ipython",
    "version": 3
   },
   "file_extension": ".py",
   "mimetype": "text/x-python",
   "name": "python",
   "nbconvert_exporter": "python",
   "pygments_lexer": "ipython3",
   "version": "3.5.2"
  },
  "widgets": {
   "state": {},
   "version": "1.1.2"
  }
 },
 "nbformat": 4,
 "nbformat_minor": 2
}
